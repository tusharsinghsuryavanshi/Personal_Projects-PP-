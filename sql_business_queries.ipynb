{
 "cells": [
  {
   "cell_type": "markdown",
   "metadata": {},
   "source": [
    "## Answering Business Questions using SQL\n",
    "\n",
    "### 1. Introduction and Schema Diagram\n",
    "\n",
    "In this project, we are using the Chinook database,  is provided as a SQLite database file called `chinook.db`. A copy of the database schema is below."
   ]
  },
  {
   "cell_type": "markdown",
   "metadata": {},
   "source": [
    "![chinook.db](https://s3.amazonaws.com/dq-content/191/chinook-schema.svg)"
   ]
  },
  {
   "cell_type": "markdown",
   "metadata": {},
   "source": [
    "We are going to use SQL queries to analyse the following: \n",
    "\n",
    "* The best selling genre in USA\n",
    "* Performance of the sales representative \n",
    "* Sales by country\n",
    "* Purchase of albums vs purchase of individual tracks\n",
    "* Which artist is used in the most playlists?\n",
    "* How many tracks have been purchased vs not purchased?\n",
    "* Is the range of tracks in the store reflective of their sales popularity?\n",
    "* Do protected vs non-protected media types have an effect on popularity?"
   ]
  },
  {
   "cell_type": "markdown",
   "metadata": {},
   "source": [
    "Let's connect Jupyter Notebook to the database file and get started with our analysis. "
   ]
  },
  {
   "cell_type": "code",
   "execution_count": 1,
   "metadata": {
    "collapsed": false
   },
   "outputs": [
    {
     "data": {
      "text/plain": [
       "'Connected: None@chinook.db'"
      ]
     },
     "execution_count": 1,
     "metadata": {},
     "output_type": "execute_result"
    }
   ],
   "source": [
    "%%capture\n",
    "%load_ext sql\n",
    "%sql sqlite:///chinook.db\n",
    "    "
   ]
  },
  {
   "cell_type": "markdown",
   "metadata": {},
   "source": [
    "### 2. Overview of the database tables and views"
   ]
  },
  {
   "cell_type": "code",
   "execution_count": 2,
   "metadata": {
    "collapsed": false
   },
   "outputs": [
    {
     "name": "stdout",
     "output_type": "stream",
     "text": [
      "Done.\n"
     ]
    },
    {
     "data": {
      "text/html": [
       "<table>\n",
       "    <tr>\n",
       "        <th>name</th>\n",
       "        <th>type</th>\n",
       "    </tr>\n",
       "    <tr>\n",
       "        <td>album</td>\n",
       "        <td>table</td>\n",
       "    </tr>\n",
       "    <tr>\n",
       "        <td>artist</td>\n",
       "        <td>table</td>\n",
       "    </tr>\n",
       "    <tr>\n",
       "        <td>customer</td>\n",
       "        <td>table</td>\n",
       "    </tr>\n",
       "    <tr>\n",
       "        <td>employee</td>\n",
       "        <td>table</td>\n",
       "    </tr>\n",
       "    <tr>\n",
       "        <td>genre</td>\n",
       "        <td>table</td>\n",
       "    </tr>\n",
       "    <tr>\n",
       "        <td>invoice</td>\n",
       "        <td>table</td>\n",
       "    </tr>\n",
       "    <tr>\n",
       "        <td>invoice_line</td>\n",
       "        <td>table</td>\n",
       "    </tr>\n",
       "    <tr>\n",
       "        <td>media_type</td>\n",
       "        <td>table</td>\n",
       "    </tr>\n",
       "    <tr>\n",
       "        <td>playlist</td>\n",
       "        <td>table</td>\n",
       "    </tr>\n",
       "    <tr>\n",
       "        <td>playlist_track</td>\n",
       "        <td>table</td>\n",
       "    </tr>\n",
       "    <tr>\n",
       "        <td>track</td>\n",
       "        <td>table</td>\n",
       "    </tr>\n",
       "</table>"
      ],
      "text/plain": [
       "[('album', 'table'),\n",
       " ('artist', 'table'),\n",
       " ('customer', 'table'),\n",
       " ('employee', 'table'),\n",
       " ('genre', 'table'),\n",
       " ('invoice', 'table'),\n",
       " ('invoice_line', 'table'),\n",
       " ('media_type', 'table'),\n",
       " ('playlist', 'table'),\n",
       " ('playlist_track', 'table'),\n",
       " ('track', 'table')]"
      ]
     },
     "execution_count": 2,
     "metadata": {},
     "output_type": "execute_result"
    }
   ],
   "source": [
    "%%sql \n",
    "SELECT name, type from sqlite_master WHERE type IN(\"table\",\"view\");"
   ]
  },
  {
   "cell_type": "code",
   "execution_count": 18,
   "metadata": {
    "collapsed": false
   },
   "outputs": [
    {
     "name": "stdout",
     "output_type": "stream",
     "text": [
      "Done.\n"
     ]
    },
    {
     "data": {
      "text/html": [
       "<table>\n",
       "    <tr>\n",
       "        <th>album_id</th>\n",
       "        <th>title</th>\n",
       "        <th>artist_id</th>\n",
       "    </tr>\n",
       "    <tr>\n",
       "        <td>1</td>\n",
       "        <td>For Those About To Rock We Salute You</td>\n",
       "        <td>1</td>\n",
       "    </tr>\n",
       "    <tr>\n",
       "        <td>2</td>\n",
       "        <td>Balls to the Wall</td>\n",
       "        <td>2</td>\n",
       "    </tr>\n",
       "    <tr>\n",
       "        <td>3</td>\n",
       "        <td>Restless and Wild</td>\n",
       "        <td>2</td>\n",
       "    </tr>\n",
       "    <tr>\n",
       "        <td>4</td>\n",
       "        <td>Let There Be Rock</td>\n",
       "        <td>1</td>\n",
       "    </tr>\n",
       "    <tr>\n",
       "        <td>5</td>\n",
       "        <td>Big Ones</td>\n",
       "        <td>3</td>\n",
       "    </tr>\n",
       "    <tr>\n",
       "        <td>6</td>\n",
       "        <td>Jagged Little Pill</td>\n",
       "        <td>4</td>\n",
       "    </tr>\n",
       "    <tr>\n",
       "        <td>7</td>\n",
       "        <td>Facelift</td>\n",
       "        <td>5</td>\n",
       "    </tr>\n",
       "    <tr>\n",
       "        <td>8</td>\n",
       "        <td>Warner 25 Anos</td>\n",
       "        <td>6</td>\n",
       "    </tr>\n",
       "    <tr>\n",
       "        <td>9</td>\n",
       "        <td>Plays Metallica By Four Cellos</td>\n",
       "        <td>7</td>\n",
       "    </tr>\n",
       "    <tr>\n",
       "        <td>10</td>\n",
       "        <td>Audioslave</td>\n",
       "        <td>8</td>\n",
       "    </tr>\n",
       "</table>"
      ],
      "text/plain": [
       "[(1, 'For Those About To Rock We Salute You', 1),\n",
       " (2, 'Balls to the Wall', 2),\n",
       " (3, 'Restless and Wild', 2),\n",
       " (4, 'Let There Be Rock', 1),\n",
       " (5, 'Big Ones', 3),\n",
       " (6, 'Jagged Little Pill', 4),\n",
       " (7, 'Facelift', 5),\n",
       " (8, 'Warner 25 Anos', 6),\n",
       " (9, 'Plays Metallica By Four Cellos', 7),\n",
       " (10, 'Audioslave', 8)]"
      ]
     },
     "execution_count": 18,
     "metadata": {},
     "output_type": "execute_result"
    }
   ],
   "source": [
    "%%sql \n",
    "select *from album LIMIT 10;"
   ]
  },
  {
   "cell_type": "markdown",
   "metadata": {},
   "source": [
    "### 3. Genre and number of tracks sold in USA\n",
    "\n",
    "The Chinook record store has just signed a deal with a new record label, and you've been tasked with selecting the first three albums that will be added to the store, from a list of four. All four albums are by artists that don't have any tracks in the store right now - we have the artist names, and the genre of music they produce as in the image below. \n",
    "\n",
    "![artist_genres](artist_genre_table.png)\n",
    "\n",
    "Let's query out which genres sell the best in the USA.\n"
   ]
  },
  {
   "cell_type": "code",
   "execution_count": 4,
   "metadata": {
    "collapsed": false,
    "scrolled": false
   },
   "outputs": [
    {
     "name": "stdout",
     "output_type": "stream",
     "text": [
      "Done.\n"
     ]
    },
    {
     "data": {
      "text/html": [
       "<table>\n",
       "    <tr>\n",
       "        <th>genre</th>\n",
       "        <th>tracks_sold</th>\n",
       "        <th>percentage_sold</th>\n",
       "    </tr>\n",
       "    <tr>\n",
       "        <td>Rock</td>\n",
       "        <td>561</td>\n",
       "        <td>0.5337773549000951</td>\n",
       "    </tr>\n",
       "    <tr>\n",
       "        <td>Alternative &amp; Punk</td>\n",
       "        <td>130</td>\n",
       "        <td>0.12369172216936251</td>\n",
       "    </tr>\n",
       "    <tr>\n",
       "        <td>Metal</td>\n",
       "        <td>124</td>\n",
       "        <td>0.11798287345385347</td>\n",
       "    </tr>\n",
       "    <tr>\n",
       "        <td>R&amp;B/Soul</td>\n",
       "        <td>53</td>\n",
       "        <td>0.05042816365366318</td>\n",
       "    </tr>\n",
       "    <tr>\n",
       "        <td>Blues</td>\n",
       "        <td>36</td>\n",
       "        <td>0.03425309229305423</td>\n",
       "    </tr>\n",
       "    <tr>\n",
       "        <td>Alternative</td>\n",
       "        <td>35</td>\n",
       "        <td>0.03330161750713606</td>\n",
       "    </tr>\n",
       "    <tr>\n",
       "        <td>Latin</td>\n",
       "        <td>22</td>\n",
       "        <td>0.02093244529019981</td>\n",
       "    </tr>\n",
       "    <tr>\n",
       "        <td>Pop</td>\n",
       "        <td>22</td>\n",
       "        <td>0.02093244529019981</td>\n",
       "    </tr>\n",
       "    <tr>\n",
       "        <td>Hip Hop/Rap</td>\n",
       "        <td>20</td>\n",
       "        <td>0.019029495718363463</td>\n",
       "    </tr>\n",
       "    <tr>\n",
       "        <td>Jazz</td>\n",
       "        <td>14</td>\n",
       "        <td>0.013320647002854425</td>\n",
       "    </tr>\n",
       "</table>"
      ],
      "text/plain": [
       "[('Rock', 561, 0.5337773549000951),\n",
       " ('Alternative & Punk', 130, 0.12369172216936251),\n",
       " ('Metal', 124, 0.11798287345385347),\n",
       " ('R&B/Soul', 53, 0.05042816365366318),\n",
       " ('Blues', 36, 0.03425309229305423),\n",
       " ('Alternative', 35, 0.03330161750713606),\n",
       " ('Latin', 22, 0.02093244529019981),\n",
       " ('Pop', 22, 0.02093244529019981),\n",
       " ('Hip Hop/Rap', 20, 0.019029495718363463),\n",
       " ('Jazz', 14, 0.013320647002854425)]"
      ]
     },
     "execution_count": 4,
     "metadata": {},
     "output_type": "execute_result"
    }
   ],
   "source": [
    "%%sql\n",
    "WITH usa AS \n",
    "(SELECT il.*\n",
    "FROM  invoice_line il \n",
    "LEFT JOIN invoice i ON  i.invoice_id = il.invoice_id\n",
    "LEFT JOIN customer c ON c.customer_id = i.customer_id\n",
    "WHERE i.billing_country = 'USA')\n",
    "SELECT g.name \"genre\",\n",
    "SUM(usa.quantity)\"tracks_sold\" ,\n",
    "CAST(COUNT(usa.invoice_line_id) AS FLOAT) / (\n",
    "        SELECT COUNT(*) from usa\n",
    "    ) \"percentage_sold\"\n",
    "FROM usa usa\n",
    "LEFT JOIN track t ON t.track_id = usa.track_id\n",
    "LEFT JOIN genre g ON g.genre_id = t.genre_id\n",
    "\n",
    "GROUP BY 1\n",
    "ORDER BY 2 DESC\n",
    "LIMIT 10;"
   ]
  },
  {
   "cell_type": "markdown",
   "metadata": {},
   "source": [
    "From the list of four, the following can be added to the store based of the results in the above cell.\n",
    "\n",
    "1. Punk by Regal\n",
    "2. Blues by Slim Jim Bites\n",
    "3. Pop by Red Tone\n",
    "However, the total percent sold for the above 3 genres is equal to  approx. 17% which is far lesser than genre Rock that tops the list with more than 50% sales in USA.  It is recommended that we purchase tracks in the Rock genre for the store.\n"
   ]
  },
  {
   "cell_type": "markdown",
   "metadata": {},
   "source": [
    "### 4. Analysing performance of Sales Agents"
   ]
  },
  {
   "cell_type": "code",
   "execution_count": 5,
   "metadata": {
    "collapsed": false
   },
   "outputs": [
    {
     "name": "stdout",
     "output_type": "stream",
     "text": [
      "Done.\n"
     ]
    },
    {
     "data": {
      "text/html": [
       "<table>\n",
       "    <tr>\n",
       "        <th>Sales Rep Name</th>\n",
       "        <th>Hire date</th>\n",
       "        <th>Total amount of sales</th>\n",
       "    </tr>\n",
       "    <tr>\n",
       "        <td>Jane Peacock</td>\n",
       "        <td>2017-04-01 00:00:00</td>\n",
       "        <td>1731.51</td>\n",
       "    </tr>\n",
       "    <tr>\n",
       "        <td>Margaret Park</td>\n",
       "        <td>2017-05-03 00:00:00</td>\n",
       "        <td>1584.0</td>\n",
       "    </tr>\n",
       "    <tr>\n",
       "        <td>Steve Johnson</td>\n",
       "        <td>2017-10-17 00:00:00</td>\n",
       "        <td>1393.92</td>\n",
       "    </tr>\n",
       "</table>"
      ],
      "text/plain": [
       "[('Jane Peacock', '2017-04-01 00:00:00', 1731.51),\n",
       " ('Margaret Park', '2017-05-03 00:00:00', 1584.0),\n",
       " ('Steve Johnson', '2017-10-17 00:00:00', 1393.92)]"
      ]
     },
     "execution_count": 5,
     "metadata": {},
     "output_type": "execute_result"
    }
   ],
   "source": [
    "%%sql\n",
    "\n",
    "select e.first_name||' '||e.last_name \"Sales Rep Name\",\n",
    "e.hire_date \"Hire date\",\n",
    "ROUND(SUM(il.unit_price* il.quantity),2) \"Total amount of sales\" from invoice i\n",
    "inner join invoice_line il on il.invoice_id = i.invoice_id \n",
    "inner join customer c on i.customer_id = c.customer_id\n",
    "inner join employee e on e.employee_id = c.support_rep_id\n",
    "group by 1\n",
    "order by 3 desc;"
   ]
  },
  {
   "cell_type": "markdown",
   "metadata": {},
   "source": [
    "There is approx. 20% (19.49%) difference in the sales between  Jane(the best sales employee) and Steve(the least performing). "
   ]
  },
  {
   "cell_type": "markdown",
   "metadata": {},
   "source": [
    "### 5. Analyzing Sales by Country"
   ]
  },
  {
   "cell_type": "code",
   "execution_count": 6,
   "metadata": {
    "collapsed": false
   },
   "outputs": [
    {
     "name": "stdout",
     "output_type": "stream",
     "text": [
      "Done.\n"
     ]
    },
    {
     "data": {
      "text/html": [
       "<table>\n",
       "    <tr>\n",
       "        <th>country</th>\n",
       "        <th>total_customers</th>\n",
       "        <th>total_sales</th>\n",
       "        <th>avg_sales_per_customer</th>\n",
       "        <th>avg_order_value</th>\n",
       "    </tr>\n",
       "    <tr>\n",
       "        <td>USA</td>\n",
       "        <td>13</td>\n",
       "        <td>1040.4899999999998</td>\n",
       "        <td>80.0376923076923</td>\n",
       "        <td>7.942671755725189</td>\n",
       "    </tr>\n",
       "    <tr>\n",
       "        <td>Canada</td>\n",
       "        <td>8</td>\n",
       "        <td>535.5900000000001</td>\n",
       "        <td>66.94875000000002</td>\n",
       "        <td>7.047236842105265</td>\n",
       "    </tr>\n",
       "    <tr>\n",
       "        <td>Brazil</td>\n",
       "        <td>5</td>\n",
       "        <td>427.68000000000006</td>\n",
       "        <td>85.53600000000002</td>\n",
       "        <td>7.0111475409836075</td>\n",
       "    </tr>\n",
       "    <tr>\n",
       "        <td>France</td>\n",
       "        <td>5</td>\n",
       "        <td>389.0699999999999</td>\n",
       "        <td>77.81399999999998</td>\n",
       "        <td>7.781399999999998</td>\n",
       "    </tr>\n",
       "    <tr>\n",
       "        <td>Germany</td>\n",
       "        <td>4</td>\n",
       "        <td>334.62</td>\n",
       "        <td>83.655</td>\n",
       "        <td>8.161463414634147</td>\n",
       "    </tr>\n",
       "    <tr>\n",
       "        <td>Czech Republic</td>\n",
       "        <td>2</td>\n",
       "        <td>273.24000000000007</td>\n",
       "        <td>136.62000000000003</td>\n",
       "        <td>9.108000000000002</td>\n",
       "    </tr>\n",
       "    <tr>\n",
       "        <td>United Kingdom</td>\n",
       "        <td>3</td>\n",
       "        <td>245.52</td>\n",
       "        <td>81.84</td>\n",
       "        <td>8.768571428571429</td>\n",
       "    </tr>\n",
       "    <tr>\n",
       "        <td>Portugal</td>\n",
       "        <td>2</td>\n",
       "        <td>185.13000000000002</td>\n",
       "        <td>92.56500000000001</td>\n",
       "        <td>6.383793103448276</td>\n",
       "    </tr>\n",
       "    <tr>\n",
       "        <td>India</td>\n",
       "        <td>2</td>\n",
       "        <td>183.14999999999998</td>\n",
       "        <td>91.57499999999999</td>\n",
       "        <td>8.72142857142857</td>\n",
       "    </tr>\n",
       "    <tr>\n",
       "        <td>Other</td>\n",
       "        <td>15</td>\n",
       "        <td>1094.9400000000003</td>\n",
       "        <td>72.99600000000002</td>\n",
       "        <td>7.44857142857143</td>\n",
       "    </tr>\n",
       "</table>"
      ],
      "text/plain": [
       "[('USA', 13, 1040.4899999999998, 80.0376923076923, 7.942671755725189),\n",
       " ('Canada', 8, 535.5900000000001, 66.94875000000002, 7.047236842105265),\n",
       " ('Brazil', 5, 427.68000000000006, 85.53600000000002, 7.0111475409836075),\n",
       " ('France', 5, 389.0699999999999, 77.81399999999998, 7.781399999999998),\n",
       " ('Germany', 4, 334.62, 83.655, 8.161463414634147),\n",
       " ('Czech Republic', 2, 273.24000000000007, 136.62000000000003, 9.108000000000002),\n",
       " ('United Kingdom', 3, 245.52, 81.84, 8.768571428571429),\n",
       " ('Portugal', 2, 185.13000000000002, 92.56500000000001, 6.383793103448276),\n",
       " ('India', 2, 183.14999999999998, 91.57499999999999, 8.72142857142857),\n",
       " ('Other', 15, 1094.9400000000003, 72.99600000000002, 7.44857142857143)]"
      ]
     },
     "execution_count": 6,
     "metadata": {},
     "output_type": "execute_result"
    }
   ],
   "source": [
    "%%sql\n",
    "WITH countries as \n",
    "(\n",
    "    SELECT CASE WHEN\n",
    "    (\n",
    "        SELECT COUNT(*) from customer\n",
    "        WHERE c.country = country\n",
    "    ) = 1 THEN \"Other\"\n",
    "    ELSE c.country END \"Country\", c.customer_id,i.*\n",
    "    FROM invoice i \n",
    "    INNER JOIN  customer c  on i.customer_id = c.customer_id\n",
    "   \n",
    ")\n",
    "SELECT country, total_customers, total_sales, avg_sales_per_customer, avg_order_value\n",
    "FROM (\n",
    "    SELECT country, COUNT(distinct customer_id)\"total_customers\",\n",
    "    SUM(total)/COUNT(distinct invoice_id)\"avg_order_value\",\n",
    "    SUM(total)\"total_sales\", SUM(total)/COUNT(distinct customer_id)\"avg_sales_per_customer\",\n",
    "    CASE\n",
    "        WHEN country = \"Other\" THEN 1\n",
    "        ELSE 0\n",
    "        END AS sort\n",
    "    FROM countries\n",
    "    GROUP BY country\n",
    "    ORDER BY sort ASC, total_sales DESC\n",
    "     \n",
    ")\n",
    "\n"
   ]
  },
  {
   "cell_type": "markdown",
   "metadata": {},
   "source": [
    "### 6. Albums vs Individual Tracks\n",
    "\n",
    "The Chinook store is setup in a way that allows customer to make purchases in one of the two ways:\n",
    "\n",
    "   *  purchase a whole album\n",
    "   * purchase a collection of one or more individual tracks.\n",
    "   \n",
    "The store does not let customers purchase a whole album, and then add individual tracks to that same purchase (unless they do that by choosing each track manually). When customers purchase albums they are charged the same price as if they had purchased each of those tracks separately.\n",
    "\n",
    "Let's find out what percentage of purchases are individual tracks vs whole albums.\n"
   ]
  },
  {
   "cell_type": "code",
   "execution_count": 11,
   "metadata": {
    "collapsed": false
   },
   "outputs": [
    {
     "name": "stdout",
     "output_type": "stream",
     "text": [
      "Done.\n"
     ]
    },
    {
     "data": {
      "text/html": [
       "<table>\n",
       "    <tr>\n",
       "        <th>album_purchase</th>\n",
       "        <th>number_of_invoices</th>\n",
       "        <th>percentage_of_invoices</th>\n",
       "    </tr>\n",
       "    <tr>\n",
       "        <td>NO</td>\n",
       "        <td>500</td>\n",
       "        <td>81.43</td>\n",
       "    </tr>\n",
       "    <tr>\n",
       "        <td>YES</td>\n",
       "        <td>114</td>\n",
       "        <td>18.57</td>\n",
       "    </tr>\n",
       "</table>"
      ],
      "text/plain": [
       "[('NO', 500, 81.43), ('YES', 114, 18.57)]"
      ]
     },
     "execution_count": 11,
     "metadata": {},
     "output_type": "execute_result"
    }
   ],
   "source": [
    "%%sql\n",
    "WITH detailed_invoice AS\n",
    "    (\n",
    "        SELECT t.track_id, i.invoice_id\n",
    "            FROM track t\n",
    "            INNER JOIN invoice_line il ON il.track_id = t.track_id\n",
    "            INNER JOIN invoice i ON i.invoice_id = il.invoice_id\n",
    "            GROUP BY i.invoice_id\n",
    "    )\n",
    "SELECT\n",
    "    album_purchase,\n",
    "    COUNT(invoice_id) number_of_invoices,\n",
    "    ROUND(CAST(COUNT(invoice_id) AS FLOAT)/(SELECT COUNT(*)\n",
    "                                            FROM invoice)*100 ,2)\"percentage_of_invoices\"\n",
    "FROM\n",
    "(\n",
    "    SELECT di.*,\n",
    "        CASE\n",
    "            WHEN(\n",
    "                  SELECT t.track_id FROM track t\n",
    "                  WHERE t.album_id = (\n",
    "                                      SELECT t2.album_id FROM track t2\n",
    "                                      WHERE t2.track_id = di.track_id\n",
    "                                     ) \n",
    "\n",
    "                  EXCEPT \n",
    "\n",
    "                  SELECT il2.track_id FROM invoice_line il2\n",
    "                  WHERE il2.invoice_id = di.invoice_id\n",
    "                 ) IS NULL\n",
    "             AND (\n",
    "                  SELECT il2.track_id FROM invoice_line il2\n",
    "                  WHERE il2.invoice_id = di.invoice_id\n",
    "\n",
    "                  EXCEPT \n",
    "\n",
    "                  SELECT t.track_id FROM track t\n",
    "                  WHERE t.album_id = (\n",
    "                                      SELECT t2.album_id FROM track t2\n",
    "                                      WHERE t2.track_id = di.track_id\n",
    "                                     ) \n",
    "                 ) IS NULL\n",
    "             THEN \"YES\"\n",
    "             ELSE \"NO\"\n",
    "         END AS \"album_purchase\"\n",
    "     FROM detailed_invoice di\n",
    "    )\n",
    "GROUP BY album_purchase;\n"
   ]
  },
  {
   "cell_type": "markdown",
   "metadata": {},
   "source": [
    "### 7. Further analysis"
   ]
  },
  {
   "cell_type": "markdown",
   "metadata": {},
   "source": [
    "#### Which artist is used in the most playlists?"
   ]
  },
  {
   "cell_type": "code",
   "execution_count": 13,
   "metadata": {
    "collapsed": false
   },
   "outputs": [
    {
     "name": "stdout",
     "output_type": "stream",
     "text": [
      "Done.\n"
     ]
    },
    {
     "data": {
      "text/html": [
       "<table>\n",
       "    <tr>\n",
       "        <th>artist</th>\n",
       "        <th>count</th>\n",
       "        <th>playlist</th>\n",
       "        <th>genre</th>\n",
       "    </tr>\n",
       "    <tr>\n",
       "        <td>Iron Maiden</td>\n",
       "        <td>516</td>\n",
       "        <td>Heavy Metal Classic</td>\n",
       "        <td>Metal</td>\n",
       "    </tr>\n",
       "    <tr>\n",
       "        <td>U2</td>\n",
       "        <td>333</td>\n",
       "        <td>Music</td>\n",
       "        <td>Pop</td>\n",
       "    </tr>\n",
       "    <tr>\n",
       "        <td>Metallica</td>\n",
       "        <td>296</td>\n",
       "        <td>Heavy Metal Classic</td>\n",
       "        <td>Metal</td>\n",
       "    </tr>\n",
       "    <tr>\n",
       "        <td>Led Zeppelin</td>\n",
       "        <td>252</td>\n",
       "        <td>Music</td>\n",
       "        <td>Rock</td>\n",
       "    </tr>\n",
       "    <tr>\n",
       "        <td>Deep Purple</td>\n",
       "        <td>226</td>\n",
       "        <td>Music</td>\n",
       "        <td>Rock</td>\n",
       "    </tr>\n",
       "    <tr>\n",
       "        <td>Lost</td>\n",
       "        <td>184</td>\n",
       "        <td>TV Shows</td>\n",
       "        <td>Drama</td>\n",
       "    </tr>\n",
       "    <tr>\n",
       "        <td>Pearl Jam</td>\n",
       "        <td>177</td>\n",
       "        <td>Grunge</td>\n",
       "        <td>Rock</td>\n",
       "    </tr>\n",
       "    <tr>\n",
       "        <td>Eric Clapton</td>\n",
       "        <td>145</td>\n",
       "        <td>Brazilian Music</td>\n",
       "        <td>Latin</td>\n",
       "    </tr>\n",
       "    <tr>\n",
       "        <td>Faith No More</td>\n",
       "        <td>145</td>\n",
       "        <td>Music</td>\n",
       "        <td>Alternative &amp; Punk</td>\n",
       "    </tr>\n",
       "    <tr>\n",
       "        <td>Lenny Kravitz</td>\n",
       "        <td>143</td>\n",
       "        <td>Music</td>\n",
       "        <td>Metal</td>\n",
       "    </tr>\n",
       "</table>"
      ],
      "text/plain": [
       "[('Iron Maiden', 516, 'Heavy Metal Classic', 'Metal'),\n",
       " ('U2', 333, 'Music', 'Pop'),\n",
       " ('Metallica', 296, 'Heavy Metal Classic', 'Metal'),\n",
       " ('Led Zeppelin', 252, 'Music', 'Rock'),\n",
       " ('Deep Purple', 226, 'Music', 'Rock'),\n",
       " ('Lost', 184, 'TV Shows', 'Drama'),\n",
       " ('Pearl Jam', 177, 'Grunge', 'Rock'),\n",
       " ('Eric Clapton', 145, 'Brazilian Music', 'Latin'),\n",
       " ('Faith No More', 145, 'Music', 'Alternative & Punk'),\n",
       " ('Lenny Kravitz', 143, 'Music', 'Metal')]"
      ]
     },
     "execution_count": 13,
     "metadata": {},
     "output_type": "execute_result"
    }
   ],
   "source": [
    "%%sql\n",
    "\n",
    "SELECT ar.name \"artist\", count(p.playlist_id)\"count\" ,p.name\"playlist\", g.name\"genre\"\n",
    "FROM  playlist_track pt\n",
    "LEFT JOIN track t  ON pt.track_id = t.track_id\n",
    "LEFT JOIN album al ON al.album_id = t.album_id\n",
    "LEFT JOIN artist ar ON ar.artist_id = al.artist_id\n",
    "LEFT JOIN genre g ON t.genre_id = g.genre_id\n",
    "LEFT JOIN playlist p ON p.playlist_id = pt.playlist_id\n",
    "GROUP BY 1\n",
    "ORDER BY 2 DESC\n",
    "LIMIT 10"
   ]
  },
  {
   "cell_type": "markdown",
   "metadata": {},
   "source": [
    "Iron Maiden has been used in most playlists."
   ]
  },
  {
   "cell_type": "markdown",
   "metadata": {
    "collapsed": true
   },
   "source": [
    "#### How many tracks have been purchased vs not purchased?"
   ]
  },
  {
   "cell_type": "code",
   "execution_count": 14,
   "metadata": {
    "collapsed": false
   },
   "outputs": [
    {
     "name": "stdout",
     "output_type": "stream",
     "text": [
      "Done.\n"
     ]
    },
    {
     "data": {
      "text/html": [
       "<table>\n",
       "    <tr>\n",
       "        <th>tracks_purchased</th>\n",
       "        <th>tracks_not_purchased</th>\n",
       "    </tr>\n",
       "    <tr>\n",
       "        <td>1806</td>\n",
       "        <td>1697</td>\n",
       "    </tr>\n",
       "</table>"
      ],
      "text/plain": [
       "[(1806, 1697)]"
      ]
     },
     "execution_count": 14,
     "metadata": {},
     "output_type": "execute_result"
    }
   ],
   "source": [
    "%%sql\n",
    " WITH invoiced AS \n",
    "    (\n",
    "        SELECT  track_id  FROM invoice_line\n",
    "    )\n",
    "        \n",
    "SELECT COUNT(DISTINCT p.track_id) as tracks_purchased, \n",
    "(\n",
    "    SELECT COUNT(DISTINCT track_id)\n",
    "    FROM track \n",
    "    WHERE track_id NOT IN (SELECT track_id FROM invoiced)\n",
    ") AS tracks_not_purchased\n",
    "FROM invoiced p  \n",
    "LEFT JOIN track t ON t.track_id = p.track_id\n",
    "\n",
    " \n",
    "\n",
    "\n"
   ]
  },
  {
   "cell_type": "markdown",
   "metadata": {
    "collapsed": true
   },
   "source": [
    "1806 distinct tracks have been purchased and 1697 were not purchased from the store."
   ]
  },
  {
   "cell_type": "markdown",
   "metadata": {
    "collapsed": false
   },
   "source": [
    "#### Do protected vs non-protected media types have an effect on popularity?"
   ]
  },
  {
   "cell_type": "code",
   "execution_count": 15,
   "metadata": {
    "collapsed": false
   },
   "outputs": [
    {
     "name": "stdout",
     "output_type": "stream",
     "text": [
      "Done.\n"
     ]
    },
    {
     "data": {
      "text/html": [
       "<table>\n",
       "    <tr>\n",
       "        <th>media_type_id</th>\n",
       "        <th>name</th>\n",
       "    </tr>\n",
       "    <tr>\n",
       "        <td>1</td>\n",
       "        <td>MPEG audio file</td>\n",
       "    </tr>\n",
       "    <tr>\n",
       "        <td>2</td>\n",
       "        <td>Protected AAC audio file</td>\n",
       "    </tr>\n",
       "    <tr>\n",
       "        <td>3</td>\n",
       "        <td>Protected MPEG-4 video file</td>\n",
       "    </tr>\n",
       "    <tr>\n",
       "        <td>4</td>\n",
       "        <td>Purchased AAC audio file</td>\n",
       "    </tr>\n",
       "    <tr>\n",
       "        <td>5</td>\n",
       "        <td>AAC audio file</td>\n",
       "    </tr>\n",
       "</table>"
      ],
      "text/plain": [
       "[(1, 'MPEG audio file'),\n",
       " (2, 'Protected AAC audio file'),\n",
       " (3, 'Protected MPEG-4 video file'),\n",
       " (4, 'Purchased AAC audio file'),\n",
       " (5, 'AAC audio file')]"
      ]
     },
     "execution_count": 15,
     "metadata": {},
     "output_type": "execute_result"
    }
   ],
   "source": [
    "%%sql\n",
    "select * from media_type"
   ]
  },
  {
   "cell_type": "markdown",
   "metadata": {},
   "source": [
    "`media_type_id` 2 and 3 are protected and the rest are not. Now let's proceed to query out the sales popularity based on the media type."
   ]
  },
  {
   "cell_type": "code",
   "execution_count": 16,
   "metadata": {
    "collapsed": false
   },
   "outputs": [
    {
     "name": "stdout",
     "output_type": "stream",
     "text": [
      "Done.\n"
     ]
    },
    {
     "data": {
      "text/html": [
       "<table>\n",
       "    <tr>\n",
       "        <th>protected</th>\n",
       "        <th>unprotected</th>\n",
       "    </tr>\n",
       "    <tr>\n",
       "        <td>437.58000000000254</td>\n",
       "        <td>4271.849999999527</td>\n",
       "    </tr>\n",
       "</table>"
      ],
      "text/plain": [
       "[(437.58000000000254, 4271.849999999527)]"
      ]
     },
     "execution_count": 16,
     "metadata": {},
     "output_type": "execute_result"
    }
   ],
   "source": [
    "%%sql\n",
    "\n",
    "WITH protected AS\n",
    "(\n",
    "    SELECT SUM(i.unit_price * i.quantity)\"price\", i.track_id,t.media_type_id\n",
    "    FROM invoice_line i\n",
    "    INNER JOIN track t ON t.track_id = i.track_id\n",
    "    WHERE t.media_type_id = 2 or t.media_type_id = 3\n",
    "),\n",
    "unprotected AS \n",
    "(\n",
    "    SELECT SUM(i.unit_price * i.quantity)\"price\", i.track_id,t.media_type_id \n",
    "    FROM invoice_line i\n",
    "    INNER JOIN  track t ON t.track_id = i.track_id\n",
    "    WHERE t.media_type_id != 2 and t.media_type_id != 3\n",
    ")\n",
    "\n",
    "SELECT SUM(p.price) AS protected, SUM(u.price) AS unprotected \n",
    "FROM media_type m\n",
    "LEFT JOIN  protected p  ON m.media_type_id = p.media_type_id\n",
    "LEFT JOIN  unprotected u ON m.media_type_id = u.media_type_id\n",
    "\n"
   ]
  },
  {
   "cell_type": "markdown",
   "metadata": {},
   "source": [
    "We see that the unprotected media type generated more sales than the protected media."
   ]
  },
  {
   "cell_type": "markdown",
   "metadata": {},
   "source": [
    "\n",
    "#### Is the range of tracks in the store reflective of their sales popularity?\n",
    "\n",
    "Let's see the popularity of the tracks based on the genre.\n"
   ]
  },
  {
   "cell_type": "code",
   "execution_count": 17,
   "metadata": {
    "collapsed": false,
    "scrolled": true
   },
   "outputs": [
    {
     "name": "stdout",
     "output_type": "stream",
     "text": [
      "Done.\n"
     ]
    },
    {
     "data": {
      "text/html": [
       "<table>\n",
       "    <tr>\n",
       "        <th>genre</th>\n",
       "        <th>popularity_percent</th>\n",
       "        <th>invoiced_amount</th>\n",
       "    </tr>\n",
       "    <tr>\n",
       "        <td>Rock</td>\n",
       "        <td>55.39</td>\n",
       "        <td>2608.65</td>\n",
       "    </tr>\n",
       "    <tr>\n",
       "        <td>Metal</td>\n",
       "        <td>13.01</td>\n",
       "        <td>612.81</td>\n",
       "    </tr>\n",
       "    <tr>\n",
       "        <td>Alternative &amp; Punk</td>\n",
       "        <td>10.34</td>\n",
       "        <td>487.08</td>\n",
       "    </tr>\n",
       "    <tr>\n",
       "        <td>Latin</td>\n",
       "        <td>3.51</td>\n",
       "        <td>165.33</td>\n",
       "    </tr>\n",
       "    <tr>\n",
       "        <td>R&amp;B/Soul</td>\n",
       "        <td>3.34</td>\n",
       "        <td>157.41</td>\n",
       "    </tr>\n",
       "    <tr>\n",
       "        <td>Blues</td>\n",
       "        <td>2.61</td>\n",
       "        <td>122.76</td>\n",
       "    </tr>\n",
       "    <tr>\n",
       "        <td>Jazz</td>\n",
       "        <td>2.54</td>\n",
       "        <td>119.79</td>\n",
       "    </tr>\n",
       "    <tr>\n",
       "        <td>Alternative</td>\n",
       "        <td>2.46</td>\n",
       "        <td>115.83</td>\n",
       "    </tr>\n",
       "    <tr>\n",
       "        <td>Easy Listening</td>\n",
       "        <td>1.56</td>\n",
       "        <td>73.26</td>\n",
       "    </tr>\n",
       "    <tr>\n",
       "        <td>Pop</td>\n",
       "        <td>1.32</td>\n",
       "        <td>62.37</td>\n",
       "    </tr>\n",
       "</table>"
      ],
      "text/plain": [
       "[('Rock', 55.39, 2608.65),\n",
       " ('Metal', 13.01, 612.81),\n",
       " ('Alternative & Punk', 10.34, 487.08),\n",
       " ('Latin', 3.51, 165.33),\n",
       " ('R&B/Soul', 3.34, 157.41),\n",
       " ('Blues', 2.61, 122.76),\n",
       " ('Jazz', 2.54, 119.79),\n",
       " ('Alternative', 2.46, 115.83),\n",
       " ('Easy Listening', 1.56, 73.26),\n",
       " ('Pop', 1.32, 62.37)]"
      ]
     },
     "execution_count": 17,
     "metadata": {},
     "output_type": "execute_result"
    }
   ],
   "source": [
    "%%sql\n",
    "\n",
    "WITH invoiced AS\n",
    "(\n",
    "    SELECT i.unit_price , i.quantity, i.track_id,t.genre_id  \n",
    "     FROM invoice_line i\n",
    "     INNER JOIN track t ON t.track_id = i.track_id \n",
    ")\n",
    "SELECT   g.name \"genre\",\n",
    "ROUND(SUM(i.quantity)/(\n",
    "                       SELECT CAST(sum(quantity) AS FLOAT) \n",
    "                         FROM invoice_line)*100 ,2)\"popularity_percent\", \n",
    "ROUND(SUM(i.unit_price * i.quantity) ,2)\"invoiced_amount\" \n",
    "\n",
    "FROM invoiced i\n",
    "LEFT JOIN genre g ON i.genre_id = g.genre_id\n",
    " \n",
    "\n",
    "GROUP BY 1 \n",
    "ORDER BY 2 DESC ,3 DESC\n",
    "LIMIT 10"
   ]
  },
  {
   "cell_type": "markdown",
   "metadata": {},
   "source": [
    "The range of tracks based on different genre do shows that tracks under genre Rock the most popular and is brought frequently followed by genre Metal. The range of tracks in the store do have a major role in the sales popularity of the store"
   ]
  },
  {
   "cell_type": "markdown",
   "metadata": {},
   "source": [
    "\n",
    "### Conclusion\n",
    "\n",
    "In this project we used SQL queries to answer business questions using the Chinook database.\n"
   ]
  }
 ],
 "metadata": {
  "kernelspec": {
   "display_name": "Python 3",
   "language": "python",
   "name": "python3"
  },
  "language_info": {
   "codemirror_mode": {
    "name": "ipython",
    "version": 3
   },
   "file_extension": ".py",
   "mimetype": "text/x-python",
   "name": "python",
   "nbconvert_exporter": "python",
   "pygments_lexer": "ipython3",
   "version": "3.4.3"
  }
 },
 "nbformat": 4,
 "nbformat_minor": 2
}
