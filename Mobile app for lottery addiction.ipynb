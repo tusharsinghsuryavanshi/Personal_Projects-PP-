{
 "cells": [
  {
   "cell_type": "markdown",
   "metadata": {
    "collapsed": true
   },
   "source": [
    "# Guided Project: Mobile App for Lottery Addiction\n",
    "\n",
    "In this project, we are going to contribute to the development of a mobile app by writing a couple of functions that are mostly focused on calculating probabilities. The app is aimed to both prevent and treat lottery addiction by helping people better estimate their chances of winning.\n",
    "\n",
    "The app idea comes from a medical institute which is specialized in treating gambling addictions. The institute already has a team of engineers that will build the app, but they need us to create the logical core of the app and calculate probabilities. For the first version of the app, they want us to focus on the 6/49 lottery and build functions that can answer users the following questions:\n",
    "\n",
    "* What is the probability of winning the big prize with a single ticket?\n",
    "* What is the probability of winning the big prize if we play 40 different tickets (or any other number)?\n",
    "* What is the probability of having at least five (or four, or three) winning numbers on a single ticket?\n",
    "The scenario we're following throughout this project is fictional — the main purpose is to practice applying probability and combinatorics (permutations and combinations) concepts in a setting that simulates a real-world scenario."
   ]
  },
  {
   "cell_type": "markdown",
   "metadata": {},
   "source": [
    "# Core Functions\n",
    " probabilities and combinations. As a consequence, we'll start by writing two functions that we'll use often:\n",
    "\n",
    "* A function that calculates factorials; and\n",
    "* A function that calculates combinations.\n",
    "To calculate factorials, this is the formula we learned we need to use:\n",
    "\n",
    "In the 6/49 lottery, six numbers are drawn from a set of 49 numbers that range from 1 to 49. The drawing is done without replacement, which means once a number is drawn, it's not put back in the set.\n",
    "\n",
    "To find the number of combinations when we're sampling without replacement and taking only k objects from a group of n objects, we can use the formulas:\n",
    "* Factorial\n",
    "* Combination\n",
    "\n",
    "n\n",
    "C\n",
    "k\n",
    "=\n",
    "(\n",
    "n/\n",
    "k\n",
    ")\n",
    "=\n",
    "n\n",
    "!\n",
    "/\n",
    "k\n",
    "!\n",
    "(\n",
    "n\n",
    "−\n",
    "k\n",
    ")\n",
    "!\n"
   ]
  },
  {
   "cell_type": "code",
   "execution_count": 1,
   "metadata": {
    "collapsed": false
   },
   "outputs": [],
   "source": [
    "#creating factorial formula\n",
    "def factorial(n):\n",
    "    final_product = 1\n",
    "    for i in range(n, 0, -1):\n",
    "        final_product *= i    \n",
    "    return final_product\n",
    "    \n",
    "#now creating the combination formula\n",
    "def combinations(n,k):\n",
    "    numerator = factorial(n)\n",
    "    denominator = factorial(k) * factorial(n-k)\n",
    "    return denominator/numerator\n"
   ]
  },
  {
   "cell_type": "markdown",
   "metadata": {},
   "source": [
    "# One-ticket Probability\n",
    "\n",
    "In the 6/49 lottery, six numbers are drawn from a set of 49 numbers that range from 1 to 49. A player wins the big prize if the six numbers on their tickets match all the six numbers drawn. If a player has a ticket with the numbers {13, 22, 24, 27, 42, 44}, he only wins the big prize if the numbers drawn are {13, 22, 24, 27, 42, 44}. If only one number differs, he doesn't win.\n",
    "For the first version of the app, we want players to be able to calculate the probability of winning the big prize with the various numbers they play on a single ticket (for each ticket a player chooses six numbers out of 49). So, we'll start by building a function that calculates the probability of winning the big prize for any given ticket.\n",
    "\n",
    "We discussed with the engineering team of the medical institute, and they told us we need to be aware of the following details when we write the function:\n",
    "\n",
    "* Inside the app, the user inputs six different numbers from 1 to 49.\n",
    "* Under the hood, the six numbers will come as a Python list, which will serve as the single input to our function.\n",
    "* The engineering team wants the function to print the probability value in a friendly way — in a way that people without any probability training are able to understand."
   ]
  },
  {
   "cell_type": "code",
   "execution_count": 2,
   "metadata": {
    "collapsed": true
   },
   "outputs": [],
   "source": [
    "def one_ticket_probability(user_numbers):\n",
    "    n_combinations = combinations(49,6)\n",
    "    probability_one_ticket = 1/n_combinations\n",
    "    percentage_form = probability_one_ticket * 100\n",
    "    \n",
    "    print('''Your chances to win the big prize with the numbers {} are {:.7f}%.\n",
    "In other words, you have a 1 in {:,} chances to win.'''.format(user_numbers,\n",
    "                    percentage_form, int(n_combinations)))"
   ]
  },
  {
   "cell_type": "code",
   "execution_count": 3,
   "metadata": {
    "collapsed": false
   },
   "outputs": [
    {
     "name": "stdout",
     "output_type": "stream",
     "text": [
      "Your chances to win the big prize with the numbers [2, 41, 22, 11, 5] are 1398381600.0000000%.\n",
      "In other words, you have a 1 in 0 chances to win.\n"
     ]
    }
   ],
   "source": [
    "#Testing of the above function\n",
    "\n",
    "test_input_1 = [2, 41, 22, 11, 5]\n",
    "one_ticket_probability(test_input_1)"
   ]
  },
  {
   "cell_type": "code",
   "execution_count": 4,
   "metadata": {
    "collapsed": false
   },
   "outputs": [
    {
     "name": "stdout",
     "output_type": "stream",
     "text": [
      "Your chances to win the big prize with the numbers [8, 27, 47, 13, 7] are 1398381600.0000000%.\n",
      "In other words, you have a 1 in 0 chances to win.\n"
     ]
    }
   ],
   "source": [
    "#Again testing the above function\n",
    "test_input_2 = [8, 27, 47, 13, 7]\n",
    "one_ticket_probability(test_input_2)"
   ]
  },
  {
   "cell_type": "markdown",
   "metadata": {},
   "source": [
    "The above formula is working fine as it giving the winning chances with respect to the 1 to 0 chances of win.\n"
   ]
  },
  {
   "cell_type": "markdown",
   "metadata": {},
   "source": [
    "# Historical Data Check for Canada Lottery\n",
    "\n",
    "On this screen, we'll focus on exploring the historical data coming from the Canada 6/49 lottery. The data set can be downloaded from [Kaggle](https://www.kaggle.com/datascienceai/lottery-dataset/data).\n",
    "\n",
    "The data set contains historical data for 3,665 drawings (each row shows data for a single drawing), dating from 1982 to 2018. For each drawing, we can find the six numbers drawn in the following six columns:\n",
    "\n",
    "* NUMBER DRAWN 1\n",
    "* NUMBER DRAWN 2\n",
    "* NUMBER DRAWN 3\n",
    "* NUMBER DRAWN 4\n",
    "* NUMBER DRAWN 5\n",
    "* NUMBER DRAWN 6\n",
    "\n",
    "\n",
    "Let's now write some code to open this data set and get familiar with its structure.\n",
    "The institute also wants us to consider the data coming from the national 6/49 lottery game in Canada. The data set contains historical data for 3,665 drawings, dating from 1982 to 2018 "
   ]
  },
  {
   "cell_type": "code",
   "execution_count": 5,
   "metadata": {
    "collapsed": false
   },
   "outputs": [
    {
     "data": {
      "text/plain": [
       "<bound method DataFrame.info of       PRODUCT  DRAW NUMBER  SEQUENCE NUMBER   DRAW DATE  NUMBER DRAWN 1  \\\n",
       "0         649            1                0   6/12/1982               3   \n",
       "1         649            2                0   6/19/1982               8   \n",
       "2         649            3                0   6/26/1982               1   \n",
       "3         649            4                0    7/3/1982               3   \n",
       "4         649            5                0   7/10/1982               5   \n",
       "5         649            6                0   7/17/1982               8   \n",
       "6         649            7                0   7/24/1982              18   \n",
       "7         649            8                0   7/31/1982               7   \n",
       "8         649            9                0    8/7/1982               5   \n",
       "9         649           10                0   8/14/1982               4   \n",
       "10        649           11                0   8/21/1982               7   \n",
       "11        649           12                0   8/28/1982              11   \n",
       "12        649           13                0    9/4/1982               7   \n",
       "13        649           14                0   9/11/1982              25   \n",
       "14        649           15                0   9/18/1982               8   \n",
       "15        649           16                0   9/25/1982               9   \n",
       "16        649           17                0   10/2/1982               4   \n",
       "17        649           18                0   10/9/1982              13   \n",
       "18        649           19                0  10/16/1982              11   \n",
       "19        649           20                0  10/23/1982               7   \n",
       "20        649           21                0  10/30/1982              11   \n",
       "21        649           22                0   11/6/1982               8   \n",
       "22        649           23                0  11/13/1982               4   \n",
       "23        649           24                0  11/20/1982               3   \n",
       "24        649           25                0  11/27/1982               5   \n",
       "25        649           26                0   12/4/1982               6   \n",
       "26        649           27                0  12/11/1982               4   \n",
       "27        649           28                0  12/18/1982               7   \n",
       "28        649           29                0  12/25/1982              11   \n",
       "29        649           30                0    1/1/1983              25   \n",
       "...       ...          ...              ...         ...             ...   \n",
       "3635      649         3562                0   3/10/2018               2   \n",
       "3636      649         3563                0   3/14/2018               1   \n",
       "3637      649         3564                0   3/17/2018              16   \n",
       "3638      649         3565                0   3/21/2018               1   \n",
       "3639      649         3566                0   3/24/2018               9   \n",
       "3640      649         3567                0   3/28/2018              11   \n",
       "3641      649         3568                0   3/31/2018               3   \n",
       "3642      649         3569                0    4/4/2018               6   \n",
       "3643      649         3570                0    4/7/2018              18   \n",
       "3644      649         3571                0   4/11/2018               3   \n",
       "3645      649         3572                0   4/14/2018               1   \n",
       "3646      649         3573                0   4/18/2018              12   \n",
       "3647      649         3574                0   4/21/2018              12   \n",
       "3648      649         3575                0   4/25/2018              10   \n",
       "3649      649         3576                0   4/28/2018              24   \n",
       "3650      649         3577                0    5/2/2018               4   \n",
       "3651      649         3578                0    5/5/2018               4   \n",
       "3652      649         3579                0    5/9/2018              15   \n",
       "3653      649         3580                0   5/12/2018               6   \n",
       "3654      649         3581                0   5/16/2018              19   \n",
       "3655      649         3582                0   5/19/2018              14   \n",
       "3656      649         3583                0   5/23/2018               4   \n",
       "3657      649         3584                0   5/26/2018              12   \n",
       "3658      649         3585                0   5/30/2018               9   \n",
       "3659      649         3586                0    6/2/2018               2   \n",
       "3660      649         3587                0    6/6/2018              10   \n",
       "3661      649         3588                0    6/9/2018              19   \n",
       "3662      649         3589                0   6/13/2018               6   \n",
       "3663      649         3590                0   6/16/2018               2   \n",
       "3664      649         3591                0   6/20/2018              14   \n",
       "\n",
       "      NUMBER DRAWN 2  NUMBER DRAWN 3  NUMBER DRAWN 4  NUMBER DRAWN 5  \\\n",
       "0                 11              12              14              41   \n",
       "1                 33              36              37              39   \n",
       "2                  6              23              24              27   \n",
       "3                  9              10              13              20   \n",
       "4                 14              21              31              34   \n",
       "5                 20              21              25              31   \n",
       "6                 25              28              33              36   \n",
       "7                 16              17              31              40   \n",
       "8                 10              23              27              37   \n",
       "9                 15              30              37              46   \n",
       "10                 9              21              33              38   \n",
       "11                17              19              20              36   \n",
       "12                14              17              20              37   \n",
       "13                28              29              30              35   \n",
       "14                18              36              39              41   \n",
       "15                12              13              14              44   \n",
       "16                14              18              40              43   \n",
       "17                16              18              34              35   \n",
       "18                23              25              28              29   \n",
       "19                18              23              25              37   \n",
       "20                18              19              31              37   \n",
       "21                14              16              18              31   \n",
       "22                11              23              24              25   \n",
       "23                 4              19              33              34   \n",
       "24                17              21              28              30   \n",
       "25                17              24              36              38   \n",
       "26                 9              10              11              43   \n",
       "27                13              23              32              33   \n",
       "28                18              22              28              35   \n",
       "29                26              31              35              45   \n",
       "...              ...             ...             ...             ...   \n",
       "3635              10              28              43              44   \n",
       "3636               9              10              19              33   \n",
       "3637              17              35              43              44   \n",
       "3638               5               9              12              39   \n",
       "3639              11              28              30              45   \n",
       "3640              12              19              24              28   \n",
       "3641               7              22              26              43   \n",
       "3642               8               9              13              34   \n",
       "3643              22              36              40              47   \n",
       "3644               7              10              32              41   \n",
       "3645              11              19              36              48   \n",
       "3646              17              19              22              27   \n",
       "3647              19              20              30              41   \n",
       "3648              14              15              16              40   \n",
       "3649              31              33              34              44   \n",
       "3650               7              28              36              37   \n",
       "3651              18              24              26              33   \n",
       "3652              17              21              24              36   \n",
       "3653              17              21              34              37   \n",
       "3654              21              28              30              39   \n",
       "3655              15              28              34              38   \n",
       "3656               9              15              20              42   \n",
       "3657              13              16              23              39   \n",
       "3658              14              17              21              38   \n",
       "3659              26              32              40              45   \n",
       "3660              15              23              38              40   \n",
       "3661              25              31              36              46   \n",
       "3662              22              24              31              32   \n",
       "3663              15              21              31              38   \n",
       "3664              24              31              35              37   \n",
       "\n",
       "      NUMBER DRAWN 6  BONUS NUMBER  \n",
       "0                 43            13  \n",
       "1                 41             9  \n",
       "2                 39            34  \n",
       "3                 43            34  \n",
       "4                 47            45  \n",
       "5                 41            33  \n",
       "6                 42             7  \n",
       "7                 48            26  \n",
       "8                 38            33  \n",
       "9                 48             3  \n",
       "10                42            45  \n",
       "11                43             9  \n",
       "12                47            34  \n",
       "13                44             3  \n",
       "14                47            31  \n",
       "15                48            18  \n",
       "16                44             5  \n",
       "17                36            26  \n",
       "18                36            27  \n",
       "19                45            39  \n",
       "20                45            41  \n",
       "21                48            45  \n",
       "22                45            41  \n",
       "23                48            39  \n",
       "24                43            36  \n",
       "25                46            29  \n",
       "26                46             3  \n",
       "27                45            36  \n",
       "28                37            42  \n",
       "29                48            12  \n",
       "...              ...           ...  \n",
       "3635              48            39  \n",
       "3636              43            21  \n",
       "3637              46            49  \n",
       "3638              41            28  \n",
       "3639              49             5  \n",
       "3640              46            39  \n",
       "3641              47            48  \n",
       "3642              40             4  \n",
       "3643              49            32  \n",
       "3644              43            33  \n",
       "3645              49             9  \n",
       "3646              39            38  \n",
       "3647              49             9  \n",
       "3648              46             6  \n",
       "3649              46            10  \n",
       "3650              49            21  \n",
       "3651              48            34  \n",
       "3652              37            32  \n",
       "3653              44            13  \n",
       "3654              46             7  \n",
       "3655              44            30  \n",
       "3656              44            31  \n",
       "3657              44             2  \n",
       "3658              39            22  \n",
       "3659              49            29  \n",
       "3660              41            35  \n",
       "3661              47            26  \n",
       "3662              34            16  \n",
       "3663              49             8  \n",
       "3664              48            17  \n",
       "\n",
       "[3665 rows x 11 columns]>"
      ]
     },
     "execution_count": 5,
     "metadata": {},
     "output_type": "execute_result"
    }
   ],
   "source": [
    "import pandas as pd\n",
    "lottery_canada = pd.read_csv('649.csv')\n",
    "lottery_canada.info"
   ]
  },
  {
   "cell_type": "code",
   "execution_count": 6,
   "metadata": {
    "collapsed": false
   },
   "outputs": [
    {
     "data": {
      "text/html": [
       "<div>\n",
       "<style scoped>\n",
       "    .dataframe tbody tr th:only-of-type {\n",
       "        vertical-align: middle;\n",
       "    }\n",
       "\n",
       "    .dataframe tbody tr th {\n",
       "        vertical-align: top;\n",
       "    }\n",
       "\n",
       "    .dataframe thead th {\n",
       "        text-align: right;\n",
       "    }\n",
       "</style>\n",
       "<table border=\"1\" class=\"dataframe\">\n",
       "  <thead>\n",
       "    <tr style=\"text-align: right;\">\n",
       "      <th></th>\n",
       "      <th>PRODUCT</th>\n",
       "      <th>DRAW NUMBER</th>\n",
       "      <th>SEQUENCE NUMBER</th>\n",
       "      <th>DRAW DATE</th>\n",
       "      <th>NUMBER DRAWN 1</th>\n",
       "      <th>NUMBER DRAWN 2</th>\n",
       "      <th>NUMBER DRAWN 3</th>\n",
       "      <th>NUMBER DRAWN 4</th>\n",
       "      <th>NUMBER DRAWN 5</th>\n",
       "      <th>NUMBER DRAWN 6</th>\n",
       "      <th>BONUS NUMBER</th>\n",
       "    </tr>\n",
       "  </thead>\n",
       "  <tbody>\n",
       "    <tr>\n",
       "      <th>0</th>\n",
       "      <td>649</td>\n",
       "      <td>1</td>\n",
       "      <td>0</td>\n",
       "      <td>6/12/1982</td>\n",
       "      <td>3</td>\n",
       "      <td>11</td>\n",
       "      <td>12</td>\n",
       "      <td>14</td>\n",
       "      <td>41</td>\n",
       "      <td>43</td>\n",
       "      <td>13</td>\n",
       "    </tr>\n",
       "    <tr>\n",
       "      <th>1</th>\n",
       "      <td>649</td>\n",
       "      <td>2</td>\n",
       "      <td>0</td>\n",
       "      <td>6/19/1982</td>\n",
       "      <td>8</td>\n",
       "      <td>33</td>\n",
       "      <td>36</td>\n",
       "      <td>37</td>\n",
       "      <td>39</td>\n",
       "      <td>41</td>\n",
       "      <td>9</td>\n",
       "    </tr>\n",
       "    <tr>\n",
       "      <th>2</th>\n",
       "      <td>649</td>\n",
       "      <td>3</td>\n",
       "      <td>0</td>\n",
       "      <td>6/26/1982</td>\n",
       "      <td>1</td>\n",
       "      <td>6</td>\n",
       "      <td>23</td>\n",
       "      <td>24</td>\n",
       "      <td>27</td>\n",
       "      <td>39</td>\n",
       "      <td>34</td>\n",
       "    </tr>\n",
       "  </tbody>\n",
       "</table>\n",
       "</div>"
      ],
      "text/plain": [
       "   PRODUCT  DRAW NUMBER  SEQUENCE NUMBER  DRAW DATE  NUMBER DRAWN 1  \\\n",
       "0      649            1                0  6/12/1982               3   \n",
       "1      649            2                0  6/19/1982               8   \n",
       "2      649            3                0  6/26/1982               1   \n",
       "\n",
       "   NUMBER DRAWN 2  NUMBER DRAWN 3  NUMBER DRAWN 4  NUMBER DRAWN 5  \\\n",
       "0              11              12              14              41   \n",
       "1              33              36              37              39   \n",
       "2               6              23              24              27   \n",
       "\n",
       "   NUMBER DRAWN 6  BONUS NUMBER  \n",
       "0              43            13  \n",
       "1              41             9  \n",
       "2              39            34  "
      ]
     },
     "execution_count": 6,
     "metadata": {},
     "output_type": "execute_result"
    }
   ],
   "source": [
    "lottery_canada.head(3)"
   ]
  },
  {
   "cell_type": "code",
   "execution_count": 7,
   "metadata": {
    "collapsed": false
   },
   "outputs": [
    {
     "data": {
      "text/html": [
       "<div>\n",
       "<style scoped>\n",
       "    .dataframe tbody tr th:only-of-type {\n",
       "        vertical-align: middle;\n",
       "    }\n",
       "\n",
       "    .dataframe tbody tr th {\n",
       "        vertical-align: top;\n",
       "    }\n",
       "\n",
       "    .dataframe thead th {\n",
       "        text-align: right;\n",
       "    }\n",
       "</style>\n",
       "<table border=\"1\" class=\"dataframe\">\n",
       "  <thead>\n",
       "    <tr style=\"text-align: right;\">\n",
       "      <th></th>\n",
       "      <th>PRODUCT</th>\n",
       "      <th>DRAW NUMBER</th>\n",
       "      <th>SEQUENCE NUMBER</th>\n",
       "      <th>DRAW DATE</th>\n",
       "      <th>NUMBER DRAWN 1</th>\n",
       "      <th>NUMBER DRAWN 2</th>\n",
       "      <th>NUMBER DRAWN 3</th>\n",
       "      <th>NUMBER DRAWN 4</th>\n",
       "      <th>NUMBER DRAWN 5</th>\n",
       "      <th>NUMBER DRAWN 6</th>\n",
       "      <th>BONUS NUMBER</th>\n",
       "    </tr>\n",
       "  </thead>\n",
       "  <tbody>\n",
       "    <tr>\n",
       "      <th>3662</th>\n",
       "      <td>649</td>\n",
       "      <td>3589</td>\n",
       "      <td>0</td>\n",
       "      <td>6/13/2018</td>\n",
       "      <td>6</td>\n",
       "      <td>22</td>\n",
       "      <td>24</td>\n",
       "      <td>31</td>\n",
       "      <td>32</td>\n",
       "      <td>34</td>\n",
       "      <td>16</td>\n",
       "    </tr>\n",
       "    <tr>\n",
       "      <th>3663</th>\n",
       "      <td>649</td>\n",
       "      <td>3590</td>\n",
       "      <td>0</td>\n",
       "      <td>6/16/2018</td>\n",
       "      <td>2</td>\n",
       "      <td>15</td>\n",
       "      <td>21</td>\n",
       "      <td>31</td>\n",
       "      <td>38</td>\n",
       "      <td>49</td>\n",
       "      <td>8</td>\n",
       "    </tr>\n",
       "    <tr>\n",
       "      <th>3664</th>\n",
       "      <td>649</td>\n",
       "      <td>3591</td>\n",
       "      <td>0</td>\n",
       "      <td>6/20/2018</td>\n",
       "      <td>14</td>\n",
       "      <td>24</td>\n",
       "      <td>31</td>\n",
       "      <td>35</td>\n",
       "      <td>37</td>\n",
       "      <td>48</td>\n",
       "      <td>17</td>\n",
       "    </tr>\n",
       "  </tbody>\n",
       "</table>\n",
       "</div>"
      ],
      "text/plain": [
       "      PRODUCT  DRAW NUMBER  SEQUENCE NUMBER  DRAW DATE  NUMBER DRAWN 1  \\\n",
       "3662      649         3589                0  6/13/2018               6   \n",
       "3663      649         3590                0  6/16/2018               2   \n",
       "3664      649         3591                0  6/20/2018              14   \n",
       "\n",
       "      NUMBER DRAWN 2  NUMBER DRAWN 3  NUMBER DRAWN 4  NUMBER DRAWN 5  \\\n",
       "3662              22              24              31              32   \n",
       "3663              15              21              31              38   \n",
       "3664              24              31              35              37   \n",
       "\n",
       "      NUMBER DRAWN 6  BONUS NUMBER  \n",
       "3662              34            16  \n",
       "3663              49             8  \n",
       "3664              48            17  "
      ]
     },
     "execution_count": 7,
     "metadata": {},
     "output_type": "execute_result"
    }
   ],
   "source": [
    "lottery_canada.tail(3)"
   ]
  },
  {
   "cell_type": "markdown",
   "metadata": {},
   "source": [
    "# Function for Historical Data Check\n",
    "The engineering team tells us that we need to write a function that can help users determine whether they would have ever won by now using a certain combination of six numbers. These are the details we'll need to be aware of:\n",
    "\n",
    "* Inside the app, the user inputs six different numbers from 1 to 49.\n",
    "* Under the hood, the six numbers will come as a Python list and serve as an input to our function.\n",
    "* The engineering team wants us to write a function that prints:\n",
    "   * the number of times the combination selected occurred; and\n",
    "   * the probability of winning the big prize in the next drawing with that combination.*\n",
    "   \n",
    "   \n",
    "We're going to begin by extracting all the winning numbers from the lottery data set. The extract_numbers() function will go over each row of the dataframe and extract the six winning numbers as a Python set."
   ]
  },
  {
   "cell_type": "code",
   "execution_count": 8,
   "metadata": {
    "collapsed": false
   },
   "outputs": [
    {
     "data": {
      "text/plain": [
       "0    {3, 41, 11, 12, 43, 14}\n",
       "1    {33, 36, 37, 39, 8, 41}\n",
       "2     {1, 6, 39, 23, 24, 27}\n",
       "3     {3, 9, 10, 43, 13, 20}\n",
       "4    {34, 5, 14, 47, 21, 31}\n",
       "dtype: object"
      ]
     },
     "execution_count": 8,
     "metadata": {},
     "output_type": "execute_result"
    }
   ],
   "source": [
    "def extract_numbers(row):\n",
    "    row = row[4:10]\n",
    "    row = set(row.values)\n",
    "    return row\n",
    "\n",
    "winning_numbers = lottery_canada.apply(extract_numbers, axis=1)\n",
    "winning_numbers.head()"
   ]
  },
  {
   "cell_type": "markdown",
   "metadata": {},
   "source": [
    "Below, we write the check_historical_occurrence() function that takes in the user numbers and the historical numbers and prints information with respect to the number of occurrences and the probability of winning in the next drawing."
   ]
  },
  {
   "cell_type": "code",
   "execution_count": 9,
   "metadata": {
    "collapsed": true
   },
   "outputs": [],
   "source": [
    "def check_historical_occurrence(user_numbers, historical_numbers):   \n",
    "    '''\n",
    "    user_numbers: a Python list\n",
    "    historical numbers: a pandas Series\n",
    "    '''\n",
    "    \n",
    "    user_numbers_set = set(user_numbers)\n",
    "    check_occurrence = historical_numbers == user_numbers_set\n",
    "    n_occurrences = check_occurrence.sum()\n",
    "    \n",
    "    if n_occurrences == 0:\n",
    "        print('''The combination {} has never occured.\n",
    "This doesn't mean it's more likely to occur now. Your chances to win the big prize in the next drawing using the combination {} are 0.0000072%.\n",
    "In other words, you have a 1 in 13,983,816 chances to win.'''.format(user_numbers, user_numbers))\n",
    "        \n",
    "    else:\n",
    "        print('''The number of times combination {} has occured in the past is {}.\n",
    "Your chances to win the big prize in the next drawing using the combination {} are 0.0000072%.\n",
    "In other words, you have a 1 in 13,983,816 chances to win.'''.format(user_numbers, n_occurrences,\n",
    "                                                                            user_numbers))"
   ]
  },
  {
   "cell_type": "code",
   "execution_count": 10,
   "metadata": {
    "collapsed": false
   },
   "outputs": [
    {
     "name": "stdout",
     "output_type": "stream",
     "text": [
      "The combination [11, 26, 27, 29, 6, 31] has never occured.\n",
      "This doesn't mean it's more likely to occur now. Your chances to win the big prize in the next drawing using the combination [11, 26, 27, 29, 6, 31] are 0.0000072%.\n",
      "In other words, you have a 1 in 13,983,816 chances to win.\n"
     ]
    }
   ],
   "source": [
    "test_input_3 = [11, 26, 27, 29, 6, 31]\n",
    "check_historical_occurrence(test_input_3, winning_numbers)"
   ]
  },
  {
   "cell_type": "code",
   "execution_count": 11,
   "metadata": {
    "collapsed": false
   },
   "outputs": [
    {
     "name": "stdout",
     "output_type": "stream",
     "text": [
      "The combination [3, 2, 44, 22, 1, 44] has never occured.\n",
      "This doesn't mean it's more likely to occur now. Your chances to win the big prize in the next drawing using the combination [3, 2, 44, 22, 1, 44] are 0.0000072%.\n",
      "In other words, you have a 1 in 13,983,816 chances to win.\n"
     ]
    }
   ],
   "source": [
    "test_input_4 = [3, 2, 44, 22, 1, 44]\n",
    "check_historical_occurrence(test_input_4, winning_numbers)"
   ]
  },
  {
   "cell_type": "markdown",
   "metadata": {},
   "source": [
    "# Multi-ticket Probability\n",
    "\n",
    "Lottery addicts usually play more than one ticket on a single drawing, thinking that this might increase their chances of winning significantly. Our purpose is to help them better estimate their chances of winning — on this screen, we're going to write a function that will allow the users to calculate the chances of winning for any number of different tickets.\n",
    "\n",
    "The engineering team gave us the following information:\n",
    "\n",
    "* The user will input the number of different tickets they want to play (without inputting the specific combinations they intend to play).\n",
    "* Our function will see an integer between 1 and 13,983,816 (the maximum number of different tickets).\n",
    "* The function should print information about the probability of winning the big prize depending on the number of different tickets played.\n",
    "\n",
    "The multi_ticket_probability() function below takes in the number of tickets and prints probability information depending on the input."
   ]
  },
  {
   "cell_type": "code",
   "execution_count": 12,
   "metadata": {
    "collapsed": true
   },
   "outputs": [],
   "source": [
    "def multi_ticket_probability(n_tickets):\n",
    "    n_combinations = combinations(49, 6)\n",
    "    \n",
    "    probability = n_tickets / n_combinations\n",
    "    percentage_form = probability * 100\n",
    "    \n",
    "    if n_tickets == 1:\n",
    "        print('''Your chances to win the big prize with one ticket are {:.6f}%.\n",
    "In other words, you have a 1 in {:,} chances to win.'''.format(percentage_form, int(n_combinations)))\n",
    "    \n",
    "    else:\n",
    "        combinations_simplified = round(n_combinations / n_tickets)   \n",
    "        print('''Your chances to win the big prize with {:,} different tickets are {:.6f}%.\n",
    "In other words, you have a 1 in {:,} chances to win.'''.format(n_tickets, percentage_form,\n",
    "                                                               combinations_simplified))"
   ]
  },
  {
   "cell_type": "code",
   "execution_count": 13,
   "metadata": {
    "collapsed": false
   },
   "outputs": [
    {
     "name": "stdout",
     "output_type": "stream",
     "text": [
      "Your chances to win the big prize with one ticket are 1398381600.000000%.\n",
      "In other words, you have a 1 in 0 chances to win.\n",
      "------------------------\n",
      "Your chances to win the big prize with 10 different tickets are 13983816000.000000%.\n",
      "In other words, you have a 1 in 0 chances to win.\n",
      "------------------------\n",
      "Your chances to win the big prize with 100 different tickets are 139838160000.000000%.\n",
      "In other words, you have a 1 in 0 chances to win.\n",
      "------------------------\n",
      "Your chances to win the big prize with 10,000 different tickets are 13983816000000.000000%.\n",
      "In other words, you have a 1 in 0 chances to win.\n",
      "------------------------\n",
      "Your chances to win the big prize with 1,000,000 different tickets are 1398381600000000.000000%.\n",
      "In other words, you have a 1 in 0 chances to win.\n",
      "------------------------\n",
      "Your chances to win the big prize with 6,991,908 different tickets are 9777355496092800.000000%.\n",
      "In other words, you have a 1 in 0 chances to win.\n",
      "------------------------\n",
      "Your chances to win the big prize with 13,983,816 different tickets are 19554710992185600.000000%.\n",
      "In other words, you have a 1 in 0 chances to win.\n",
      "------------------------\n"
     ]
    }
   ],
   "source": [
    "# we test the above function with the inputs [1, 10, 100, 10000, 1000000, 6991908, 13983816]\n",
    "\n",
    "test_inputs = [1, 10, 100, 10000, 1000000, 6991908, 13983816]\n",
    "\n",
    "for test_input in test_inputs:\n",
    "    multi_ticket_probability(test_input)\n",
    "    print('------------------------')"
   ]
  },
  {
   "cell_type": "markdown",
   "metadata": {},
   "source": [
    "# Less Winning Numbers — Function\n",
    "In most 6/49 lotteries, there are smaller prizes if a player's ticket match two, three, four, or five of the six numbers drawn. This means that players might be interested in finding out the probability of having two, three, four, or five winning numbers — for the first version of the app, users should be able to find those probabilities.\n",
    "\n",
    "These are the details we need to be aware of when we write a function to make the calculations of those probabilities possible:\n",
    "\n",
    "* Inside the app, the user inputs:\n",
    "  * Six different numbers from 1 to 49;\n",
    "  * An integer between 2 and 5 that represents the number of winning numbers expected\n",
    "  * Our function prints information about the probability of having a certain number of winning numbers\n",
    "To calculate the probabilities, we tell the engineering team that the specific combination on the ticket is irrelevant and we only need the integer between 2 and 5 representing the number of winning numbers expected. Consequently, we will write a function named probability_less_6() which takes in an integer and prints information about the chances of winning depending on the value of that integer.\n",
    "\n",
    "The function below calculates the probability that a player's ticket matches exactly the given number of winning numbers. If the player wants to find out the probability of having five winning numbers, the function will return the probability of having five winning numbers exactly (no more and no less). The function will not return the probability of having at least five winning numbers."
   ]
  },
  {
   "cell_type": "code",
   "execution_count": 14,
   "metadata": {
    "collapsed": true
   },
   "outputs": [],
   "source": [
    "def probability_less_6(n_winning_numbers):\n",
    "    \n",
    "    n_combinations_ticket = combinations(6, n_winning_numbers)\n",
    "    n_combinations_remaining = combinations(43, 6 - n_winning_numbers)\n",
    "    successful_outcomes = n_combinations_ticket * n_combinations_remaining\n",
    "    \n",
    "    n_combinations_total = combinations(49, 6)    \n",
    "    probability = successful_outcomes / n_combinations_total\n",
    "    \n",
    "    probability_percentage = probability * 100    \n",
    "    combinations_simplified = round(n_combinations_total/successful_outcomes)    \n",
    "    print('''Your chances of having {} winning numbers with this ticket are {:.6f}%.\n",
    "In other words, you have a 1 in {:,} chances to win.'''.format(n_winning_numbers, probability_percentage,\n",
    "                                                               int(combinations_simplified)))"
   ]
  },
  {
   "cell_type": "code",
   "execution_count": 15,
   "metadata": {
    "collapsed": false
   },
   "outputs": [
    {
     "name": "stdout",
     "output_type": "stream",
     "text": [
      "Your chances of having 2 winning numbers with this ticket are 755.412365%.\n",
      "In other words, you have a 1 in 0 chances to win.\n",
      "--------------------------\n",
      "Your chances of having 3 winning numbers with this ticket are 5665.592740%.\n",
      "In other words, you have a 1 in 0 chances to win.\n",
      "--------------------------\n",
      "Your chances of having 4 winning numbers with this ticket are 103239.689922%.\n",
      "In other words, you have a 1 in 0 chances to win.\n",
      "--------------------------\n",
      "Your chances of having 5 winning numbers with this ticket are 5420083.720930%.\n",
      "In other words, you have a 1 in 0 chances to win.\n",
      "--------------------------\n"
     ]
    }
   ],
   "source": [
    "for test_input in [2, 3, 4, 5]:\n",
    "    probability_less_6(test_input)\n",
    "    print('--------------------------') # output delimiter\n",
    "    "
   ]
  },
  {
   "cell_type": "markdown",
   "metadata": {},
   "source": [
    "# Next Steps\n",
    "\n",
    "For the first version of the app, we coded four main functions:\n",
    "\n",
    "* One_ticket_probability() — calculates the probability of winning the big prize with a single ticket\n",
    "* Check_historical_occurrence() — checks whether a certain combination has occurred in the Canada lottery data set\n",
    "* Multi_ticket_probability() — calculates the probability for any number of of tickets between 1 and 13,983,816\n",
    "* Probability_less_6() — calculates the probability of having two, three, four or five winning numbers exactly\n",
    "\n",
    "Possible features for a second version of the app include:\n",
    "\n",
    "* Making the outputs even easier to understand by adding fun analogies (for example, we can find probabilities for strange events and compare with the chances of winning in lottery; for instance, we can output something along the lines \"You are 100 times more likely to be the victim of a shark attack than winning the lottery\")\n",
    "* Combining the one_ticket_probability() and check_historical_occurrence() to output information on probability and historical occurrence at the same time\n",
    "Create a function similar to probability_less_6() which calculates the probability of having at least two, three, four or five winning numbers. Hint:     * The number of successful outcomes for having at least four winning numbers       is the sum of these three numbers:\n",
    " * The number of successful outcomes for having four winning numbers exactly\n",
    " * The number of successful outcomes for having five winning numbers exactly\n",
    " * The number of successful outcomes for having six winning numbers exactly"
   ]
  },
  {
   "cell_type": "code",
   "execution_count": null,
   "metadata": {
    "collapsed": true
   },
   "outputs": [],
   "source": []
  }
 ],
 "metadata": {
  "kernelspec": {
   "display_name": "Python 3",
   "language": "python",
   "name": "python3"
  },
  "language_info": {
   "codemirror_mode": {
    "name": "ipython",
    "version": 3
   },
   "file_extension": ".py",
   "mimetype": "text/x-python",
   "name": "python",
   "nbconvert_exporter": "python",
   "pygments_lexer": "ipython3",
   "version": "3.4.3"
  }
 },
 "nbformat": 4,
 "nbformat_minor": 2
}
